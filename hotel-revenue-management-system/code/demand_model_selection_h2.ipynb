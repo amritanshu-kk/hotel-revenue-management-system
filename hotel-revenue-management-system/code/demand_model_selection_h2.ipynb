{
 "cells": [
  {
   "cell_type": "markdown",
   "id": "lesser-elizabeth",
   "metadata": {},
   "source": [
    "# Modeling Demand\n",
    "\n",
    "**Target variable**: `Proj_TRN_RoomsPickup`: How many transient rooms will be booked for each stay date, from this point (8/1/17) forward, at current prices?"
   ]
  },
  {
   "cell_type": "code",
   "execution_count": 1,
   "id": "approved-officer",
   "metadata": {},
   "outputs": [
    {
     "name": "stdout",
     "output_type": "stream",
     "text": [
      "Automatically created module for IPython interactive environment\n"
     ]
    }
   ],
   "source": [
    "import pandas as pd\n",
    "import numpy as np\n",
    "\n",
    "from agg import prep_demand_features\n",
    "from demand_features import rf_cols, rf2_cols\n",
    "\n",
    "pd.options.display.max_rows = 160\n",
    "pd.options.display.max_columns = 250\n",
    "pd.options.display.max_colwidth = None\n",
    "\n",
    "import matplotlib.pyplot as plt\n",
    "import seaborn as sns\n",
    "\n",
    "from sklearn.preprocessing import StandardScaler\n",
    "from sklearn.linear_model import LinearRegression, LassoCV, RidgeCV\n",
    "from sklearn.model_selection import cross_val_score, GridSearchCV, RandomizedSearchCV\n",
    "from sklearn.ensemble import RandomForestRegressor\n",
    "from sklearn.base import BaseEstimator, TransformerMixin\n",
    "from sklearn.metrics import r2_score\n",
    "\n",
    "from xgboost import XGBRegressor\n",
    "\n",
    "DATE_FMT = \"%Y-%m-%d\"\n",
    "from sklearn.experimental import enable_halving_search_cv  # noqa\n",
    "from sklearn.model_selection import HalvingRandomSearchCV, HalvingGridSearchCV\n",
    "\n",
    "print(__doc__)"
   ]
  },
  {
   "cell_type": "code",
   "execution_count": 2,
   "id": "consolidated-stations",
   "metadata": {},
   "outputs": [
    {
     "name": "stdout",
     "output_type": "stream",
     "text": [
      "40\n"
     ]
    },
    {
     "data": {
      "text/plain": [
       "40"
      ]
     },
     "execution_count": 2,
     "metadata": {},
     "output_type": "execute_result"
    }
   ],
   "source": [
    "print(len(rf_cols))\n",
    "len(set(rf_cols))"
   ]
  },
  {
   "cell_type": "code",
   "execution_count": 3,
   "id": "systematic-rwanda",
   "metadata": {},
   "outputs": [
    {
     "name": "stdout",
     "output_type": "stream",
     "text": [
      "53\n"
     ]
    },
    {
     "data": {
      "text/plain": [
       "53"
      ]
     },
     "execution_count": 3,
     "metadata": {},
     "output_type": "execute_result"
    }
   ],
   "source": [
    "print(len(rf2_cols))\n",
    "len(set(rf2_cols))"
   ]
  },
  {
   "cell_type": "code",
   "execution_count": null,
   "id": "subtle-wichita",
   "metadata": {},
   "outputs": [],
   "source": []
  },
  {
   "cell_type": "code",
   "execution_count": 4,
   "id": "bound-quality",
   "metadata": {},
   "outputs": [],
   "source": [
    "df_stats = pd.read_pickle(\"../data/h2_stats.pick\")"
   ]
  },
  {
   "cell_type": "markdown",
   "id": "shaped-right",
   "metadata": {},
   "source": [
    "## Splitting Up Our Data for Train/Test\n",
    "\n",
    "Our training set will contain all dates prior to as_of_date.\n",
    "\n",
    "Our testing set will contain 31 stay dates starting on as_of_date. Our predictions will be used to provide price recommendations later on."
   ]
  },
  {
   "cell_type": "code",
   "execution_count": 5,
   "id": "deadly-philosophy",
   "metadata": {},
   "outputs": [],
   "source": [
    "mask = (df_stats[\"StayDate\"] < '2017-08-01')\n",
    "test_mask = (df_stats['AsOfDate'] == '2017-08-01')\n",
    "df_train = df_stats.loc[mask].copy()\n",
    "df_test = df_stats.loc[test_mask].copy()\n",
    "\n",
    "X_train = df_train[rf2_cols].copy()\n",
    "X_test = df_test[rf2_cols].copy()\n",
    "y_train = df_train['ACTUAL_TRN_RoomsPickup'].copy()\n",
    "y_test = df_test['ACTUAL_TRN_RoomsPickup'].copy()"
   ]
  },
  {
   "cell_type": "code",
   "execution_count": 6,
   "id": "global-touch",
   "metadata": {},
   "outputs": [
    {
     "data": {
      "text/plain": [
       "(11216, 53)"
      ]
     },
     "execution_count": 6,
     "metadata": {},
     "output_type": "execute_result"
    }
   ],
   "source": [
    "X_train.shape"
   ]
  },
  {
   "cell_type": "code",
   "execution_count": 7,
   "id": "least-daisy",
   "metadata": {},
   "outputs": [
    {
     "data": {
      "text/html": [
       "<div>\n",
       "<style scoped>\n",
       "    .dataframe tbody tr th:only-of-type {\n",
       "        vertical-align: middle;\n",
       "    }\n",
       "\n",
       "    .dataframe tbody tr th {\n",
       "        vertical-align: top;\n",
       "    }\n",
       "\n",
       "    .dataframe thead th {\n",
       "        text-align: right;\n",
       "    }\n",
       "</style>\n",
       "<table border=\"1\" class=\"dataframe\">\n",
       "  <thead>\n",
       "    <tr style=\"text-align: right;\">\n",
       "      <th></th>\n",
       "      <th>week_of_year</th>\n",
       "      <th>RoomsOTB</th>\n",
       "      <th>RoomsOTB_STLY</th>\n",
       "      <th>TRN_RoomsOTB</th>\n",
       "      <th>TRN_RoomsOTB_STLY</th>\n",
       "      <th>TRNP_RoomsOTB</th>\n",
       "      <th>TRNP_RoomsOTB_STLY</th>\n",
       "      <th>WE</th>\n",
       "      <th>DaysUntilArrival</th>\n",
       "      <th>RemSupply</th>\n",
       "      <th>Mon</th>\n",
       "      <th>Sat</th>\n",
       "      <th>Sun</th>\n",
       "      <th>Thu</th>\n",
       "      <th>Tue</th>\n",
       "      <th>Wed</th>\n",
       "      <th>ACTUAL_RoomsPickup_STLY</th>\n",
       "      <th>ACTUAL_TRN_RoomsPickup_STLY</th>\n",
       "      <th>ACTUAL_TRNP_RoomsPickup_STLY</th>\n",
       "      <th>OTB_GapToLYA_RoomsSold</th>\n",
       "      <th>OTB_GapToLYA_TRN_RoomsSold</th>\n",
       "      <th>OTB_GapToLYA_TRNP_RoomsSold</th>\n",
       "      <th>Pace_RoomsOTB</th>\n",
       "      <th>Pace_RemSupply</th>\n",
       "      <th>TM30_RoomsPickup</th>\n",
       "      <th>TM30_RoomsPickup_STLY</th>\n",
       "      <th>TM30_TRN_RoomsPickup</th>\n",
       "      <th>TM30_TRN_RoomsPickup_STLY</th>\n",
       "      <th>TM30_TRNP_RoomsPickup</th>\n",
       "      <th>TM30_TRNP_RoomsPickup_STLY</th>\n",
       "      <th>TM15_RoomsPickup</th>\n",
       "      <th>TM15_RoomsPickup_STLY</th>\n",
       "      <th>TM15_TRN_RoomsPickup</th>\n",
       "      <th>TM15_TRN_RoomsPickup_STLY</th>\n",
       "      <th>TM15_TRNP_RoomsPickup</th>\n",
       "      <th>TM15_TRNP_RoomsPickup_STLY</th>\n",
       "      <th>TM05_RoomsPickup</th>\n",
       "      <th>TM05_RoomsPickup_STLY</th>\n",
       "      <th>TM05_TRN_RoomsPickup</th>\n",
       "      <th>TM05_TRN_RoomsPickup_STLY</th>\n",
       "      <th>TM05_TRNP_RoomsPickup</th>\n",
       "      <th>TM05_TRNP_RoomsPickup_STLY</th>\n",
       "      <th>Pace_TRN_RoomsOTB</th>\n",
       "      <th>Pace_TRNP_RoomsOTB</th>\n",
       "      <th>Pace_TM30_RoomsPickup</th>\n",
       "      <th>Pace_TM30_TRN_RoomsPickup</th>\n",
       "      <th>Pace_TM30_TRNP_RoomsPickup</th>\n",
       "      <th>Pace_TM15_RoomsPickup</th>\n",
       "      <th>Pace_TM15_TRN_RoomsPickup</th>\n",
       "      <th>Pace_TM15_TRNP_RoomsPickup</th>\n",
       "      <th>Pace_TM05_RoomsPickup</th>\n",
       "      <th>Pace_TM05_TRN_RoomsPickup</th>\n",
       "      <th>Pace_TM05_TRNP_RoomsPickup</th>\n",
       "    </tr>\n",
       "  </thead>\n",
       "  <tbody>\n",
       "    <tr>\n",
       "      <th>0</th>\n",
       "      <td>30.0</td>\n",
       "      <td>212.0</td>\n",
       "      <td>34.0</td>\n",
       "      <td>103.0</td>\n",
       "      <td>15.0</td>\n",
       "      <td>109.0</td>\n",
       "      <td>19.0</td>\n",
       "      <td>False</td>\n",
       "      <td>0.0</td>\n",
       "      <td>24.0</td>\n",
       "      <td>False</td>\n",
       "      <td>False</td>\n",
       "      <td>True</td>\n",
       "      <td>False</td>\n",
       "      <td>False</td>\n",
       "      <td>False</td>\n",
       "      <td>0.0</td>\n",
       "      <td>0.0</td>\n",
       "      <td>0.0</td>\n",
       "      <td>-178.0</td>\n",
       "      <td>-88.0</td>\n",
       "      <td>-90.0</td>\n",
       "      <td>178.0</td>\n",
       "      <td>-187.0</td>\n",
       "      <td>-3.0</td>\n",
       "      <td>-12.0</td>\n",
       "      <td>3.0</td>\n",
       "      <td>2.0</td>\n",
       "      <td>-6.0</td>\n",
       "      <td>-14.0</td>\n",
       "      <td>0.0</td>\n",
       "      <td>-9.0</td>\n",
       "      <td>6.0</td>\n",
       "      <td>3.0</td>\n",
       "      <td>-6.0</td>\n",
       "      <td>-12.0</td>\n",
       "      <td>-3.0</td>\n",
       "      <td>-10.0</td>\n",
       "      <td>3.0</td>\n",
       "      <td>3.0</td>\n",
       "      <td>-6.0</td>\n",
       "      <td>-13.0</td>\n",
       "      <td>88.0</td>\n",
       "      <td>90.0</td>\n",
       "      <td>9.0</td>\n",
       "      <td>1.0</td>\n",
       "      <td>8.0</td>\n",
       "      <td>9.0</td>\n",
       "      <td>3.0</td>\n",
       "      <td>6.0</td>\n",
       "      <td>7.0</td>\n",
       "      <td>0.0</td>\n",
       "      <td>7.0</td>\n",
       "    </tr>\n",
       "    <tr>\n",
       "      <th>1</th>\n",
       "      <td>31.0</td>\n",
       "      <td>189.0</td>\n",
       "      <td>48.0</td>\n",
       "      <td>149.0</td>\n",
       "      <td>16.0</td>\n",
       "      <td>40.0</td>\n",
       "      <td>32.0</td>\n",
       "      <td>False</td>\n",
       "      <td>1.0</td>\n",
       "      <td>49.0</td>\n",
       "      <td>True</td>\n",
       "      <td>False</td>\n",
       "      <td>False</td>\n",
       "      <td>False</td>\n",
       "      <td>False</td>\n",
       "      <td>False</td>\n",
       "      <td>3.0</td>\n",
       "      <td>2.0</td>\n",
       "      <td>0.0</td>\n",
       "      <td>-138.0</td>\n",
       "      <td>-131.0</td>\n",
       "      <td>-8.0</td>\n",
       "      <td>141.0</td>\n",
       "      <td>-151.0</td>\n",
       "      <td>7.0</td>\n",
       "      <td>-28.0</td>\n",
       "      <td>8.0</td>\n",
       "      <td>3.0</td>\n",
       "      <td>-1.0</td>\n",
       "      <td>-31.0</td>\n",
       "      <td>15.0</td>\n",
       "      <td>-26.0</td>\n",
       "      <td>16.0</td>\n",
       "      <td>2.0</td>\n",
       "      <td>-1.0</td>\n",
       "      <td>-28.0</td>\n",
       "      <td>10.0</td>\n",
       "      <td>-18.0</td>\n",
       "      <td>11.0</td>\n",
       "      <td>0.0</td>\n",
       "      <td>-1.0</td>\n",
       "      <td>-18.0</td>\n",
       "      <td>133.0</td>\n",
       "      <td>8.0</td>\n",
       "      <td>35.0</td>\n",
       "      <td>5.0</td>\n",
       "      <td>30.0</td>\n",
       "      <td>41.0</td>\n",
       "      <td>14.0</td>\n",
       "      <td>27.0</td>\n",
       "      <td>28.0</td>\n",
       "      <td>11.0</td>\n",
       "      <td>17.0</td>\n",
       "    </tr>\n",
       "    <tr>\n",
       "      <th>2</th>\n",
       "      <td>31.0</td>\n",
       "      <td>210.0</td>\n",
       "      <td>30.0</td>\n",
       "      <td>172.0</td>\n",
       "      <td>14.0</td>\n",
       "      <td>38.0</td>\n",
       "      <td>16.0</td>\n",
       "      <td>False</td>\n",
       "      <td>2.0</td>\n",
       "      <td>32.0</td>\n",
       "      <td>False</td>\n",
       "      <td>False</td>\n",
       "      <td>False</td>\n",
       "      <td>False</td>\n",
       "      <td>True</td>\n",
       "      <td>False</td>\n",
       "      <td>8.0</td>\n",
       "      <td>5.0</td>\n",
       "      <td>0.0</td>\n",
       "      <td>-172.0</td>\n",
       "      <td>-153.0</td>\n",
       "      <td>-22.0</td>\n",
       "      <td>180.0</td>\n",
       "      <td>-177.0</td>\n",
       "      <td>14.0</td>\n",
       "      <td>-16.0</td>\n",
       "      <td>13.0</td>\n",
       "      <td>2.0</td>\n",
       "      <td>1.0</td>\n",
       "      <td>-18.0</td>\n",
       "      <td>17.0</td>\n",
       "      <td>-16.0</td>\n",
       "      <td>16.0</td>\n",
       "      <td>1.0</td>\n",
       "      <td>1.0</td>\n",
       "      <td>-17.0</td>\n",
       "      <td>11.0</td>\n",
       "      <td>-17.0</td>\n",
       "      <td>10.0</td>\n",
       "      <td>0.0</td>\n",
       "      <td>1.0</td>\n",
       "      <td>-17.0</td>\n",
       "      <td>158.0</td>\n",
       "      <td>22.0</td>\n",
       "      <td>30.0</td>\n",
       "      <td>11.0</td>\n",
       "      <td>19.0</td>\n",
       "      <td>33.0</td>\n",
       "      <td>15.0</td>\n",
       "      <td>18.0</td>\n",
       "      <td>28.0</td>\n",
       "      <td>10.0</td>\n",
       "      <td>18.0</td>\n",
       "    </tr>\n",
       "    <tr>\n",
       "      <th>3</th>\n",
       "      <td>31.0</td>\n",
       "      <td>218.0</td>\n",
       "      <td>80.0</td>\n",
       "      <td>178.0</td>\n",
       "      <td>16.0</td>\n",
       "      <td>40.0</td>\n",
       "      <td>64.0</td>\n",
       "      <td>False</td>\n",
       "      <td>3.0</td>\n",
       "      <td>27.0</td>\n",
       "      <td>False</td>\n",
       "      <td>False</td>\n",
       "      <td>False</td>\n",
       "      <td>False</td>\n",
       "      <td>False</td>\n",
       "      <td>True</td>\n",
       "      <td>21.0</td>\n",
       "      <td>13.0</td>\n",
       "      <td>2.0</td>\n",
       "      <td>-117.0</td>\n",
       "      <td>-149.0</td>\n",
       "      <td>26.0</td>\n",
       "      <td>138.0</td>\n",
       "      <td>-129.0</td>\n",
       "      <td>4.0</td>\n",
       "      <td>-35.0</td>\n",
       "      <td>5.0</td>\n",
       "      <td>0.0</td>\n",
       "      <td>-1.0</td>\n",
       "      <td>-35.0</td>\n",
       "      <td>2.0</td>\n",
       "      <td>-2.0</td>\n",
       "      <td>3.0</td>\n",
       "      <td>0.0</td>\n",
       "      <td>-1.0</td>\n",
       "      <td>-2.0</td>\n",
       "      <td>-1.0</td>\n",
       "      <td>-19.0</td>\n",
       "      <td>0.0</td>\n",
       "      <td>-1.0</td>\n",
       "      <td>-1.0</td>\n",
       "      <td>-18.0</td>\n",
       "      <td>162.0</td>\n",
       "      <td>-24.0</td>\n",
       "      <td>39.0</td>\n",
       "      <td>5.0</td>\n",
       "      <td>34.0</td>\n",
       "      <td>4.0</td>\n",
       "      <td>3.0</td>\n",
       "      <td>1.0</td>\n",
       "      <td>18.0</td>\n",
       "      <td>1.0</td>\n",
       "      <td>17.0</td>\n",
       "    </tr>\n",
       "    <tr>\n",
       "      <th>4</th>\n",
       "      <td>31.0</td>\n",
       "      <td>213.0</td>\n",
       "      <td>80.0</td>\n",
       "      <td>181.0</td>\n",
       "      <td>10.0</td>\n",
       "      <td>32.0</td>\n",
       "      <td>70.0</td>\n",
       "      <td>False</td>\n",
       "      <td>4.0</td>\n",
       "      <td>33.0</td>\n",
       "      <td>False</td>\n",
       "      <td>False</td>\n",
       "      <td>False</td>\n",
       "      <td>True</td>\n",
       "      <td>False</td>\n",
       "      <td>False</td>\n",
       "      <td>33.0</td>\n",
       "      <td>23.0</td>\n",
       "      <td>2.0</td>\n",
       "      <td>-100.0</td>\n",
       "      <td>-148.0</td>\n",
       "      <td>40.0</td>\n",
       "      <td>133.0</td>\n",
       "      <td>-121.0</td>\n",
       "      <td>6.0</td>\n",
       "      <td>-5.0</td>\n",
       "      <td>6.0</td>\n",
       "      <td>-1.0</td>\n",
       "      <td>0.0</td>\n",
       "      <td>-4.0</td>\n",
       "      <td>2.0</td>\n",
       "      <td>-3.0</td>\n",
       "      <td>2.0</td>\n",
       "      <td>-1.0</td>\n",
       "      <td>0.0</td>\n",
       "      <td>-2.0</td>\n",
       "      <td>-1.0</td>\n",
       "      <td>0.0</td>\n",
       "      <td>-1.0</td>\n",
       "      <td>0.0</td>\n",
       "      <td>0.0</td>\n",
       "      <td>0.0</td>\n",
       "      <td>171.0</td>\n",
       "      <td>-38.0</td>\n",
       "      <td>11.0</td>\n",
       "      <td>7.0</td>\n",
       "      <td>4.0</td>\n",
       "      <td>5.0</td>\n",
       "      <td>3.0</td>\n",
       "      <td>2.0</td>\n",
       "      <td>-1.0</td>\n",
       "      <td>-1.0</td>\n",
       "      <td>0.0</td>\n",
       "    </tr>\n",
       "  </tbody>\n",
       "</table>\n",
       "</div>"
      ],
      "text/plain": [
       "   week_of_year  RoomsOTB  RoomsOTB_STLY  TRN_RoomsOTB  TRN_RoomsOTB_STLY  \\\n",
       "0          30.0     212.0           34.0         103.0               15.0   \n",
       "1          31.0     189.0           48.0         149.0               16.0   \n",
       "2          31.0     210.0           30.0         172.0               14.0   \n",
       "3          31.0     218.0           80.0         178.0               16.0   \n",
       "4          31.0     213.0           80.0         181.0               10.0   \n",
       "\n",
       "   TRNP_RoomsOTB  TRNP_RoomsOTB_STLY     WE  DaysUntilArrival  RemSupply  \\\n",
       "0          109.0                19.0  False               0.0       24.0   \n",
       "1           40.0                32.0  False               1.0       49.0   \n",
       "2           38.0                16.0  False               2.0       32.0   \n",
       "3           40.0                64.0  False               3.0       27.0   \n",
       "4           32.0                70.0  False               4.0       33.0   \n",
       "\n",
       "     Mon    Sat    Sun    Thu    Tue    Wed  ACTUAL_RoomsPickup_STLY  \\\n",
       "0  False  False   True  False  False  False                      0.0   \n",
       "1   True  False  False  False  False  False                      3.0   \n",
       "2  False  False  False  False   True  False                      8.0   \n",
       "3  False  False  False  False  False   True                     21.0   \n",
       "4  False  False  False   True  False  False                     33.0   \n",
       "\n",
       "   ACTUAL_TRN_RoomsPickup_STLY  ACTUAL_TRNP_RoomsPickup_STLY  \\\n",
       "0                          0.0                           0.0   \n",
       "1                          2.0                           0.0   \n",
       "2                          5.0                           0.0   \n",
       "3                         13.0                           2.0   \n",
       "4                         23.0                           2.0   \n",
       "\n",
       "   OTB_GapToLYA_RoomsSold  OTB_GapToLYA_TRN_RoomsSold  \\\n",
       "0                  -178.0                       -88.0   \n",
       "1                  -138.0                      -131.0   \n",
       "2                  -172.0                      -153.0   \n",
       "3                  -117.0                      -149.0   \n",
       "4                  -100.0                      -148.0   \n",
       "\n",
       "   OTB_GapToLYA_TRNP_RoomsSold  Pace_RoomsOTB  Pace_RemSupply  \\\n",
       "0                        -90.0          178.0          -187.0   \n",
       "1                         -8.0          141.0          -151.0   \n",
       "2                        -22.0          180.0          -177.0   \n",
       "3                         26.0          138.0          -129.0   \n",
       "4                         40.0          133.0          -121.0   \n",
       "\n",
       "   TM30_RoomsPickup  TM30_RoomsPickup_STLY  TM30_TRN_RoomsPickup  \\\n",
       "0              -3.0                  -12.0                   3.0   \n",
       "1               7.0                  -28.0                   8.0   \n",
       "2              14.0                  -16.0                  13.0   \n",
       "3               4.0                  -35.0                   5.0   \n",
       "4               6.0                   -5.0                   6.0   \n",
       "\n",
       "   TM30_TRN_RoomsPickup_STLY  TM30_TRNP_RoomsPickup  \\\n",
       "0                        2.0                   -6.0   \n",
       "1                        3.0                   -1.0   \n",
       "2                        2.0                    1.0   \n",
       "3                        0.0                   -1.0   \n",
       "4                       -1.0                    0.0   \n",
       "\n",
       "   TM30_TRNP_RoomsPickup_STLY  TM15_RoomsPickup  TM15_RoomsPickup_STLY  \\\n",
       "0                       -14.0               0.0                   -9.0   \n",
       "1                       -31.0              15.0                  -26.0   \n",
       "2                       -18.0              17.0                  -16.0   \n",
       "3                       -35.0               2.0                   -2.0   \n",
       "4                        -4.0               2.0                   -3.0   \n",
       "\n",
       "   TM15_TRN_RoomsPickup  TM15_TRN_RoomsPickup_STLY  TM15_TRNP_RoomsPickup  \\\n",
       "0                   6.0                        3.0                   -6.0   \n",
       "1                  16.0                        2.0                   -1.0   \n",
       "2                  16.0                        1.0                    1.0   \n",
       "3                   3.0                        0.0                   -1.0   \n",
       "4                   2.0                       -1.0                    0.0   \n",
       "\n",
       "   TM15_TRNP_RoomsPickup_STLY  TM05_RoomsPickup  TM05_RoomsPickup_STLY  \\\n",
       "0                       -12.0              -3.0                  -10.0   \n",
       "1                       -28.0              10.0                  -18.0   \n",
       "2                       -17.0              11.0                  -17.0   \n",
       "3                        -2.0              -1.0                  -19.0   \n",
       "4                        -2.0              -1.0                    0.0   \n",
       "\n",
       "   TM05_TRN_RoomsPickup  TM05_TRN_RoomsPickup_STLY  TM05_TRNP_RoomsPickup  \\\n",
       "0                   3.0                        3.0                   -6.0   \n",
       "1                  11.0                        0.0                   -1.0   \n",
       "2                  10.0                        0.0                    1.0   \n",
       "3                   0.0                       -1.0                   -1.0   \n",
       "4                  -1.0                        0.0                    0.0   \n",
       "\n",
       "   TM05_TRNP_RoomsPickup_STLY  Pace_TRN_RoomsOTB  Pace_TRNP_RoomsOTB  \\\n",
       "0                       -13.0               88.0                90.0   \n",
       "1                       -18.0              133.0                 8.0   \n",
       "2                       -17.0              158.0                22.0   \n",
       "3                       -18.0              162.0               -24.0   \n",
       "4                         0.0              171.0               -38.0   \n",
       "\n",
       "   Pace_TM30_RoomsPickup  Pace_TM30_TRN_RoomsPickup  \\\n",
       "0                    9.0                        1.0   \n",
       "1                   35.0                        5.0   \n",
       "2                   30.0                       11.0   \n",
       "3                   39.0                        5.0   \n",
       "4                   11.0                        7.0   \n",
       "\n",
       "   Pace_TM30_TRNP_RoomsPickup  Pace_TM15_RoomsPickup  \\\n",
       "0                         8.0                    9.0   \n",
       "1                        30.0                   41.0   \n",
       "2                        19.0                   33.0   \n",
       "3                        34.0                    4.0   \n",
       "4                         4.0                    5.0   \n",
       "\n",
       "   Pace_TM15_TRN_RoomsPickup  Pace_TM15_TRNP_RoomsPickup  \\\n",
       "0                        3.0                         6.0   \n",
       "1                       14.0                        27.0   \n",
       "2                       15.0                        18.0   \n",
       "3                        3.0                         1.0   \n",
       "4                        3.0                         2.0   \n",
       "\n",
       "   Pace_TM05_RoomsPickup  Pace_TM05_TRN_RoomsPickup  \\\n",
       "0                    7.0                        0.0   \n",
       "1                   28.0                       11.0   \n",
       "2                   28.0                       10.0   \n",
       "3                   18.0                        1.0   \n",
       "4                   -1.0                       -1.0   \n",
       "\n",
       "   Pace_TM05_TRNP_RoomsPickup  \n",
       "0                         7.0  \n",
       "1                        17.0  \n",
       "2                        18.0  \n",
       "3                        17.0  \n",
       "4                         0.0  "
      ]
     },
     "execution_count": 7,
     "metadata": {},
     "output_type": "execute_result"
    }
   ],
   "source": [
    "X_train.head()"
   ]
  },
  {
   "cell_type": "markdown",
   "id": "absent-cover",
   "metadata": {},
   "source": [
    "## LINEAR REGRESSION\n",
    "\n",
    "Failed to generalize. Our target variable is not a linear combination of the rate & revenue features that we know have an impact on demand."
   ]
  },
  {
   "cell_type": "code",
   "execution_count": 8,
   "id": "exposed-reproduction",
   "metadata": {},
   "outputs": [
    {
     "name": "stdout",
     "output_type": "stream",
     "text": [
      "CPU times: user 5.55 s, sys: 7.29 s, total: 12.8 s\n",
      "Wall time: 790 ms\n"
     ]
    },
    {
     "data": {
      "text/plain": [
       "0.7461881333806426"
      ]
     },
     "execution_count": 8,
     "metadata": {},
     "output_type": "execute_result"
    }
   ],
   "source": [
    "%%time\n",
    "lm = LinearRegression()\n",
    "lr_model = lm.fit(X_train, y_train)\n",
    "scores = cross_val_score(lm, X_train, y_train, scoring='r2', cv=5)\n",
    "scores.mean()"
   ]
  },
  {
   "cell_type": "code",
   "execution_count": 9,
   "id": "prepared-diagram",
   "metadata": {},
   "outputs": [
    {
     "data": {
      "text/plain": [
       "0.20894690077562206"
      ]
     },
     "execution_count": 9,
     "metadata": {},
     "output_type": "execute_result"
    }
   ],
   "source": [
    "lr_model.score(X_test, y_test)"
   ]
  },
  {
   "cell_type": "markdown",
   "id": "attractive-sharing",
   "metadata": {},
   "source": [
    "## RANDOM FOREST MODEL\n",
    "\n",
    "I had high hopes for RF, and it came through. It works because of the amount and quality of the features I have engineered, despite the small training set. \n",
    "\n",
    "That's just not the case for H2, even after adding back in TRNT"
   ]
  },
  {
   "cell_type": "code",
   "execution_count": 10,
   "id": "sudden-hunger",
   "metadata": {},
   "outputs": [
    {
     "name": "stdout",
     "output_type": "stream",
     "text": [
      "CPU times: user 38.1 s, sys: 1.7 s, total: 39.8 s\n",
      "Wall time: 14.1 s\n"
     ]
    },
    {
     "data": {
      "text/plain": [
       "0.7932368870711455"
      ]
     },
     "execution_count": 10,
     "metadata": {},
     "output_type": "execute_result"
    }
   ],
   "source": [
    "%%time\n",
    "rfm = RandomForestRegressor(n_jobs=-1, random_state=21)\n",
    "rf_model = rfm.fit(X_train, y_train)\n",
    "scores = cross_val_score(rfm, X_train, y_train, scoring='r2', cv=5)\n",
    "scores.mean()"
   ]
  },
  {
   "cell_type": "code",
   "execution_count": 11,
   "id": "acute-blend",
   "metadata": {},
   "outputs": [
    {
     "data": {
      "text/plain": [
       "0.458986159298176"
      ]
     },
     "execution_count": 11,
     "metadata": {},
     "output_type": "execute_result"
    }
   ],
   "source": [
    "rf_model.score(X_test, y_test)"
   ]
  },
  {
   "cell_type": "code",
   "execution_count": 12,
   "id": "consistent-summary",
   "metadata": {},
   "outputs": [
    {
     "data": {
      "text/plain": [
       "53"
      ]
     },
     "execution_count": 12,
     "metadata": {},
     "output_type": "execute_result"
    }
   ],
   "source": [
    "len(rf2_cols)"
   ]
  },
  {
   "cell_type": "markdown",
   "id": "frozen-sheet",
   "metadata": {},
   "source": [
    "## XGBOOST MODEL (GRADIENT BOOSTING TREES)\n",
    "\n",
    "XGBoost failed to generalize, likely due to the small training sample. "
   ]
  },
  {
   "cell_type": "code",
   "execution_count": 13,
   "id": "insured-salvation",
   "metadata": {},
   "outputs": [],
   "source": [
    "# %%time\n",
    "# xgbm = XGBRegressor(n_jobs=-1, random_state=21)\n",
    "# xgb_model = xgbm.fit(X_train, y_train)\n",
    "# scores = cross_val_score(xgbm, X_train, y_train, scoring='r2', cv=5)\n",
    "# scores.mean()"
   ]
  },
  {
   "cell_type": "code",
   "execution_count": 14,
   "id": "immune-tracy",
   "metadata": {},
   "outputs": [],
   "source": [
    "# xgbm.score(X_test, y_test)"
   ]
  },
  {
   "cell_type": "markdown",
   "id": "conditional-above",
   "metadata": {},
   "source": [
    "## MOVING FORWARD WITH RANDOM FOREST....\n",
    "\n",
    "H2 model not as good (not even close). Hoping it can be fixed with hyperparameters, but it's likely due to the features not being able to predict city demand as well as resorts. After all, resorts tend to have more seasonal  demand than city.\n",
    "\n",
    "\n",
    "## Successive Halving Grid Search"
   ]
  },
  {
   "cell_type": "code",
   "execution_count": 15,
   "id": "colonial-smith",
   "metadata": {},
   "outputs": [
    {
     "name": "stdout",
     "output_type": "stream",
     "text": [
      "n_iterations: 5\n",
      "n_required_iterations: 5\n",
      "n_possible_iterations: 5\n",
      "min_resources_: 138\n",
      "max_resources_: 11216\n",
      "aggressive_elimination: False\n",
      "factor: 3\n",
      "----------\n",
      "iter: 0\n",
      "n_candidates: 88\n",
      "n_resources: 138\n",
      "Fitting 5 folds for each of 88 candidates, totalling 440 fits\n",
      "----------\n",
      "iter: 1\n",
      "n_candidates: 30\n",
      "n_resources: 414\n",
      "Fitting 5 folds for each of 30 candidates, totalling 150 fits\n",
      "----------\n",
      "iter: 2\n",
      "n_candidates: 10\n",
      "n_resources: 1242\n",
      "Fitting 5 folds for each of 10 candidates, totalling 50 fits\n",
      "----------\n",
      "iter: 3\n",
      "n_candidates: 4\n",
      "n_resources: 3726\n",
      "Fitting 5 folds for each of 4 candidates, totalling 20 fits\n",
      "----------\n",
      "iter: 4\n",
      "n_candidates: 2\n",
      "n_resources: 11178\n",
      "Fitting 5 folds for each of 2 candidates, totalling 10 fits\n"
     ]
    },
    {
     "data": {
      "text/plain": [
       "HalvingGridSearchCV(estimator=RandomForestRegressor(), n_jobs=-1,\n",
       "                    param_grid={'max_depth': [10, 13, 16, 19, 22, 25, 28, 31,\n",
       "                                              34, 37, None],\n",
       "                                'n_estimators': range(300, 700, 50)},\n",
       "                    random_state=20,\n",
       "                    refit=<function _refit_callable at 0x7fd3b10d2830>,\n",
       "                    verbose=10)"
      ]
     },
     "execution_count": 15,
     "metadata": {},
     "output_type": "execute_result"
    }
   ],
   "source": [
    "max_depth = list(range(10, 40, 3))\n",
    "max_depth.append(None)\n",
    "\n",
    "random_grid = {\n",
    "    \"n_estimators\": range(300, 700, 50),\n",
    "    \"max_depth\": max_depth,\n",
    "}\n",
    "\n",
    "rf = RandomForestRegressor()\n",
    "rf_hgs = (HalvingGridSearchCV(rf, random_grid, verbose=10, random_state=20, cv=5, n_jobs=-1))\n",
    "\n",
    "rf_hgs.fit(X_train, y_train)"
   ]
  },
  {
   "cell_type": "markdown",
   "id": "concrete-thing",
   "metadata": {},
   "source": [
    "Randomized halving did not improve score much. Resulting params were:\n",
    "{'n_estimators': 740,\n",
    " 'min_samples_split': 2,\n",
    " 'min_samples_leaf': 1,\n",
    " 'max_depth': 80}\n",
    "\n",
    "Trying HalvingGridSearch now, maybe it can tell me something."
   ]
  },
  {
   "cell_type": "code",
   "execution_count": 16,
   "id": "quantitative-period",
   "metadata": {},
   "outputs": [
    {
     "data": {
      "text/plain": [
       "0.46807288911466927"
      ]
     },
     "execution_count": 16,
     "metadata": {},
     "output_type": "execute_result"
    }
   ],
   "source": [
    "rf_hgs.score(X_test, y_test)"
   ]
  },
  {
   "cell_type": "code",
   "execution_count": 17,
   "id": "dedicated-roots",
   "metadata": {},
   "outputs": [
    {
     "data": {
      "text/plain": [
       "{'max_depth': 25, 'n_estimators': 350}"
      ]
     },
     "execution_count": 17,
     "metadata": {},
     "output_type": "execute_result"
    }
   ],
   "source": [
    "rf_hgs.best_params_"
   ]
  },
  {
   "cell_type": "code",
   "execution_count": 18,
   "id": "athletic-belgium",
   "metadata": {},
   "outputs": [],
   "source": [
    "# results.to_csv(\"halving_random_results_h2.csv\")"
   ]
  },
  {
   "cell_type": "markdown",
   "id": "documentary-paris",
   "metadata": {},
   "source": [
    "Parameters of random grid search\n",
    "```\n",
    "random_grid = {\n",
    "    \"n_estimators\": range(200, 2000, 100),\n",
    "    \"max_features\": [\"auto\", \"sqrt\"],\n",
    "    \"max_depth\": range(10, 110, 11),\n",
    "    \"min_samples_split\": [2, 5, 10],\n",
    "    \"min_samples_leaf\": [1, 2, 4],\n",
    "    \"bootstrap\": [True, False]\n",
    "}\n",
    "\n",
    "rf = RandomForestRegressor()\n",
    "rf_random = (RandomizedSearchCV(rf, random_grid, verbose=2, n_iter=50, random_state=42, n_jobs=-1))\n",
    "\n",
    "rf_random.fit(X_train, y_train)\n",
    "```"
   ]
  },
  {
   "cell_type": "markdown",
   "id": "respected-welsh",
   "metadata": {},
   "source": [
    "Results of random grid search:\n",
    "\n",
    "```\n",
    "{'n_estimators': 500,\n",
    " 'min_samples_split': 2,\n",
    " 'min_samples_leaf': 1,\n",
    " 'max_features': 'auto',\n",
    " 'max_depth': 43,\n",
    " 'bootstrap': True}\n",
    "```\n",
    "\n",
    "Score: 0.6519058137402494"
   ]
  },
  {
   "cell_type": "markdown",
   "id": "behavioral-andrew",
   "metadata": {},
   "source": [
    "## Brute Force Hyperparameter Tuning (GridSearchCV)\n",
    "\n",
    "Best params thus far: \n",
    "Setup params:\n",
    "```\n",
    "GridSearchCV(cv=5, estimator=RandomForestRegressor(), n_jobs=-1,\n",
    "             param_grid={'bootstrap': [True], 'max_depth': [30, 56, 2],\n",
    "                         'max_features': ['auto'],\n",
    "                         'min_samples_split': [2, 3, 4, 8],\n",
    "                         'n_estimators': range(300, 800, 40)},\n",
    "             verbose=10)\n",
    "```\n",
    "Best resulting params:\n",
    "```\n",
    "{'bootstrap': True,\n",
    " 'max_depth': 56,\n",
    " 'max_features': 'auto',\n",
    " 'min_samples_split': 3,\n",
    " 'n_estimators': 300}\n",
    "```\n",
    "\n",
    " $R^2$ CV score: `0.7785714200550233`\n",
    "\n",
    "\n",
    "<font size=\"5.1\" color='blue' style='strong'>Round 2 (Best Results, **Final Model**)</font>\n",
    "\n",
    "\n",
    "Param grid:\n",
    "```\n",
    "rf_grid = {\n",
    "    \"n_estimators\": range(150, 500, 50),\n",
    "    \"max_features\": ['auto'],\n",
    "    \"max_depth\": range(32,56,2),\n",
    "    \"bootstrap\": [True],\n",
    "    \"min_samples_split\": [2, 3, 4]\n",
    "}\n",
    "```\n",
    "\n",
    "And the **results**:\n",
    "```\n",
    "{'bootstrap': True,\n",
    " 'max_depth': 48,\n",
    " 'min_samples_split': 2,\n",
    " 'n_estimators': 150}\n",
    "```\n",
    "$R^2$ CV score: `0.779336423856766`\n",
    " \n",
    "### Round 3 (Worse than Round 2)\n",
    "\n",
    "Param grid:\n",
    "```\n",
    "rf_grid = {\n",
    "    \"n_estimators\": range(75, 225, 25),\n",
    "    \"max_depth\": [47, 48, 49],\n",
    "    \"bootstrap\": [True],\n",
    "    \"min_samples_split\": [2],\n",
    "}\n",
    "```\n",
    "\n",
    "And the **results**:\n",
    "\n",
    "Best params:\n",
    "```\n",
    "{'bootstrap': True,\n",
    " 'max_depth': 47,\n",
    " 'min_samples_split': 2,\n",
    " 'n_estimators': 125}\n",
    "```\n",
    "$R^2$ CV score: `0.7775378755829061`"
   ]
  },
  {
   "cell_type": "code",
   "execution_count": 19,
   "id": "following-match",
   "metadata": {},
   "outputs": [],
   "source": [
    "# rf_grid = {\n",
    "#     \"n_estimators\": range(75, 200, 25),\n",
    "#     \"max_depth\": [47, 48],\n",
    "#     \"bootstrap\": [True],\n",
    "#     \"min_samples_split\": [2],\n",
    "# }\n",
    "# rfm = RandomForestRegressor()\n",
    "\n",
    "# rf_grid = GridSearchCV(rfm, rf_grid, n_jobs=-1, verbose=10, cv=5)\n",
    "# rf_grid.fit(X1_train, y1_train)"
   ]
  },
  {
   "cell_type": "code",
   "execution_count": 20,
   "id": "marine-cholesterol",
   "metadata": {},
   "outputs": [],
   "source": [
    "# rf_grid.best_params_"
   ]
  },
  {
   "cell_type": "code",
   "execution_count": 21,
   "id": "legal-indianapolis",
   "metadata": {},
   "outputs": [],
   "source": [
    "# rf_grid.best_score_"
   ]
  },
  {
   "cell_type": "code",
   "execution_count": 22,
   "id": "loving-syndication",
   "metadata": {},
   "outputs": [],
   "source": [
    "# rf_grid.score(X1_test, y1_test)"
   ]
  },
  {
   "cell_type": "markdown",
   "id": "personal-ambassador",
   "metadata": {},
   "source": [
    "## Final Model"
   ]
  },
  {
   "cell_type": "code",
   "execution_count": 26,
   "id": "invisible-stage",
   "metadata": {},
   "outputs": [
    {
     "data": {
      "text/plain": [
       "RandomForestRegressor(max_depth=25, n_estimators=350, n_jobs=-1)"
      ]
     },
     "execution_count": 26,
     "metadata": {},
     "output_type": "execute_result"
    }
   ],
   "source": [
    "rf = RandomForestRegressor(n_estimators=350, max_depth=25, n_jobs=-1)\n",
    "                           \n",
    "\n",
    "rf.fit(X_train, y_train)"
   ]
  },
  {
   "cell_type": "code",
   "execution_count": 27,
   "id": "documentary-listing",
   "metadata": {},
   "outputs": [
    {
     "data": {
      "text/plain": [
       "0.4432932952341444"
      ]
     },
     "execution_count": 27,
     "metadata": {},
     "output_type": "execute_result"
    }
   ],
   "source": [
    "rf.score(X_test, y_test)"
   ]
  },
  {
   "cell_type": "markdown",
   "id": "basic-deadline",
   "metadata": {},
   "source": [
    "## Now that we have our model, let's get it in the simulation so we can evaluate our results.\n",
    "\n",
    "Head over to `demand_model_evaluation.ipynb` for more."
   ]
  },
  {
   "cell_type": "code",
   "execution_count": null,
   "id": "cleared-drinking",
   "metadata": {},
   "outputs": [],
   "source": []
  }
 ],
 "metadata": {
  "kernelspec": {
   "display_name": "Python 3",
   "language": "python",
   "name": "python3"
  },
  "language_info": {
   "codemirror_mode": {
    "name": "ipython",
    "version": 3
   },
   "file_extension": ".py",
   "mimetype": "text/x-python",
   "name": "python",
   "nbconvert_exporter": "python",
   "pygments_lexer": "ipython3",
   "version": "3.7.9"
  }
 },
 "nbformat": 4,
 "nbformat_minor": 5
}
