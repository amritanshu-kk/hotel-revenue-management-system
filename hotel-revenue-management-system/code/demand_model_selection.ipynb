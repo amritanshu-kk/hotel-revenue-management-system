{
 "cells": [
  {
   "cell_type": "markdown",
   "id": "lesser-elizabeth",
   "metadata": {},
   "source": [
    "# Modeling Demand\n",
    "\n",
    "**Target variable**: `Proj_TRN_RoomsPickup`: How many transient rooms will be booked for each stay date, from this point (8/1/17) forward, at current prices?"
   ]
  },
  {
   "cell_type": "code",
   "execution_count": 1,
   "id": "approved-officer",
   "metadata": {},
   "outputs": [
    {
     "name": "stdout",
     "output_type": "stream",
     "text": [
      "Automatically created module for IPython interactive environment\n"
     ]
    }
   ],
   "source": [
    "import pandas as pd\n",
    "import numpy as np\n",
    "\n",
    "from agg import prep_demand_features\n",
    "from demand_features import rf_cols\n",
    "\n",
    "pd.options.display.max_rows = 160\n",
    "pd.options.display.max_columns = 250\n",
    "pd.options.display.max_colwidth = None\n",
    "\n",
    "import matplotlib.pyplot as plt\n",
    "import seaborn as sns\n",
    "\n",
    "from sklearn.preprocessing import StandardScaler\n",
    "from sklearn.linear_model import LinearRegression, LassoCV, RidgeCV\n",
    "from sklearn.model_selection import cross_val_score, GridSearchCV, RandomizedSearchCV\n",
    "from sklearn.ensemble import RandomForestRegressor\n",
    "from sklearn.base import BaseEstimator, TransformerMixin\n",
    "from sklearn.metrics import r2_score\n",
    "\n",
    "from xgboost import XGBRegressor\n",
    "\n",
    "DATE_FMT = \"%Y-%m-%d\"\n",
    "\n",
    "from sklearn.experimental import enable_halving_search_cv  # noqa\n",
    "from sklearn.model_selection import HalvingRandomSearchCV, HalvingGridSearchCV\n",
    "\n",
    "print(__doc__)"
   ]
  },
  {
   "cell_type": "code",
   "execution_count": 2,
   "id": "bound-quality",
   "metadata": {},
   "outputs": [],
   "source": [
    "h1_stats = pd.read_pickle(\"../data/h1_stats.pick\")"
   ]
  },
  {
   "cell_type": "code",
   "execution_count": 3,
   "id": "saved-directory",
   "metadata": {},
   "outputs": [
    {
     "data": {
      "text/plain": [
       "40"
      ]
     },
     "execution_count": 3,
     "metadata": {},
     "output_type": "execute_result"
    }
   ],
   "source": [
    "len(rf_cols)"
   ]
  },
  {
   "cell_type": "markdown",
   "id": "shaped-right",
   "metadata": {},
   "source": [
    "## Splitting Up Our Data for Train/Test\n",
    "\n",
    "Our training set will contain all dates prior to as_of_date.\n",
    "\n",
    "Our testing set will contain 31 stay dates starting on as_of_date. Our predictions will be used to provide price recommendations later on."
   ]
  },
  {
   "cell_type": "code",
   "execution_count": 4,
   "id": "deadly-philosophy",
   "metadata": {},
   "outputs": [],
   "source": [
    "mask = (h1_stats[\"StayDate\"] < '2017-08-01')\n",
    "test_mask = (h1_stats['AsOfDate'] == '2017-08-01')\n",
    "h1_train = h1_stats.loc[mask].copy()\n",
    "h1_test = h1_stats.loc[test_mask].copy()\n",
    "\n",
    "X1_train = h1_train[rf_cols].copy()\n",
    "X1_test = h1_test[rf_cols].copy()\n",
    "y1_train = h1_train['ACTUAL_TRN_RoomsPickup'].copy()\n",
    "y1_test = h1_test['ACTUAL_TRN_RoomsPickup'].copy()"
   ]
  },
  {
   "cell_type": "code",
   "execution_count": 5,
   "id": "global-touch",
   "metadata": {},
   "outputs": [
    {
     "data": {
      "text/plain": [
       "(11216, 40)"
      ]
     },
     "execution_count": 5,
     "metadata": {},
     "output_type": "execute_result"
    }
   ],
   "source": [
    "X1_train.shape"
   ]
  },
  {
   "cell_type": "code",
   "execution_count": 6,
   "id": "least-daisy",
   "metadata": {},
   "outputs": [
    {
     "data": {
      "text/html": [
       "<div>\n",
       "<style scoped>\n",
       "    .dataframe tbody tr th:only-of-type {\n",
       "        vertical-align: middle;\n",
       "    }\n",
       "\n",
       "    .dataframe tbody tr th {\n",
       "        vertical-align: top;\n",
       "    }\n",
       "\n",
       "    .dataframe thead th {\n",
       "        text-align: right;\n",
       "    }\n",
       "</style>\n",
       "<table border=\"1\" class=\"dataframe\">\n",
       "  <thead>\n",
       "    <tr style=\"text-align: right;\">\n",
       "      <th></th>\n",
       "      <th>week_of_year</th>\n",
       "      <th>RoomsOTB</th>\n",
       "      <th>RoomsOTB_STLY</th>\n",
       "      <th>TRN_RoomsOTB</th>\n",
       "      <th>TRN_RoomsOTB_STLY</th>\n",
       "      <th>WE</th>\n",
       "      <th>DaysUntilArrival</th>\n",
       "      <th>RemSupply</th>\n",
       "      <th>RemSupply_STLY</th>\n",
       "      <th>Mon</th>\n",
       "      <th>Sat</th>\n",
       "      <th>Sun</th>\n",
       "      <th>Thu</th>\n",
       "      <th>Tue</th>\n",
       "      <th>Wed</th>\n",
       "      <th>ACTUAL_RoomsPickup_STLY</th>\n",
       "      <th>ACTUAL_TRN_RoomsPickup_STLY</th>\n",
       "      <th>OTB_GapToLYA_RoomsSold</th>\n",
       "      <th>OTB_GapToLYA_TRN_RoomsSold</th>\n",
       "      <th>TM30_RoomsPickup</th>\n",
       "      <th>TM30_RoomsPickup_STLY</th>\n",
       "      <th>TM30_TRN_RoomsPickup</th>\n",
       "      <th>TM30_TRN_RoomsPickup_STLY</th>\n",
       "      <th>TM15_RoomsPickup</th>\n",
       "      <th>TM15_RoomsPickup_STLY</th>\n",
       "      <th>TM15_TRN_RoomsPickup</th>\n",
       "      <th>TM15_TRN_RoomsPickup_STLY</th>\n",
       "      <th>TM05_RoomsPickup</th>\n",
       "      <th>TM05_RoomsPickup_STLY</th>\n",
       "      <th>TM05_TRN_RoomsPickup</th>\n",
       "      <th>TM05_TRN_RoomsPickup_STLY</th>\n",
       "      <th>Pace_RoomsOTB</th>\n",
       "      <th>Pace_RemSupply</th>\n",
       "      <th>Pace_TRN_RoomsOTB</th>\n",
       "      <th>Pace_TM30_RoomsPickup</th>\n",
       "      <th>Pace_TM30_TRN_RoomsPickup</th>\n",
       "      <th>Pace_TM15_RoomsPickup</th>\n",
       "      <th>Pace_TM15_TRN_RoomsPickup</th>\n",
       "      <th>Pace_TM05_RoomsPickup</th>\n",
       "      <th>Pace_TM05_TRN_RoomsPickup</th>\n",
       "    </tr>\n",
       "  </thead>\n",
       "  <tbody>\n",
       "    <tr>\n",
       "      <th>0</th>\n",
       "      <td>30.0</td>\n",
       "      <td>170.0</td>\n",
       "      <td>168.0</td>\n",
       "      <td>137.0</td>\n",
       "      <td>129.0</td>\n",
       "      <td>False</td>\n",
       "      <td>0.0</td>\n",
       "      <td>42.0</td>\n",
       "      <td>41.0</td>\n",
       "      <td>False</td>\n",
       "      <td>False</td>\n",
       "      <td>1</td>\n",
       "      <td>False</td>\n",
       "      <td>False</td>\n",
       "      <td>False</td>\n",
       "      <td>0.0</td>\n",
       "      <td>0.0</td>\n",
       "      <td>-2.0</td>\n",
       "      <td>-8.0</td>\n",
       "      <td>20.0</td>\n",
       "      <td>7.0</td>\n",
       "      <td>15.0</td>\n",
       "      <td>10.0</td>\n",
       "      <td>15.0</td>\n",
       "      <td>7.0</td>\n",
       "      <td>10.0</td>\n",
       "      <td>9.0</td>\n",
       "      <td>8.0</td>\n",
       "      <td>6.0</td>\n",
       "      <td>9.0</td>\n",
       "      <td>6.0</td>\n",
       "      <td>2.0</td>\n",
       "      <td>1.0</td>\n",
       "      <td>8.0</td>\n",
       "      <td>13.0</td>\n",
       "      <td>5.0</td>\n",
       "      <td>8.0</td>\n",
       "      <td>1.0</td>\n",
       "      <td>2.0</td>\n",
       "      <td>3.0</td>\n",
       "    </tr>\n",
       "    <tr>\n",
       "      <th>1</th>\n",
       "      <td>31.0</td>\n",
       "      <td>178.0</td>\n",
       "      <td>175.0</td>\n",
       "      <td>148.0</td>\n",
       "      <td>130.0</td>\n",
       "      <td>False</td>\n",
       "      <td>1.0</td>\n",
       "      <td>40.0</td>\n",
       "      <td>38.0</td>\n",
       "      <td>True</td>\n",
       "      <td>False</td>\n",
       "      <td>0</td>\n",
       "      <td>False</td>\n",
       "      <td>False</td>\n",
       "      <td>False</td>\n",
       "      <td>3.0</td>\n",
       "      <td>3.0</td>\n",
       "      <td>0.0</td>\n",
       "      <td>-15.0</td>\n",
       "      <td>3.0</td>\n",
       "      <td>3.0</td>\n",
       "      <td>3.0</td>\n",
       "      <td>6.0</td>\n",
       "      <td>3.0</td>\n",
       "      <td>7.0</td>\n",
       "      <td>3.0</td>\n",
       "      <td>9.0</td>\n",
       "      <td>7.0</td>\n",
       "      <td>2.0</td>\n",
       "      <td>7.0</td>\n",
       "      <td>2.0</td>\n",
       "      <td>3.0</td>\n",
       "      <td>2.0</td>\n",
       "      <td>18.0</td>\n",
       "      <td>0.0</td>\n",
       "      <td>-3.0</td>\n",
       "      <td>-4.0</td>\n",
       "      <td>-6.0</td>\n",
       "      <td>5.0</td>\n",
       "      <td>5.0</td>\n",
       "    </tr>\n",
       "    <tr>\n",
       "      <th>2</th>\n",
       "      <td>31.0</td>\n",
       "      <td>182.0</td>\n",
       "      <td>178.0</td>\n",
       "      <td>158.0</td>\n",
       "      <td>128.0</td>\n",
       "      <td>False</td>\n",
       "      <td>2.0</td>\n",
       "      <td>40.0</td>\n",
       "      <td>35.0</td>\n",
       "      <td>False</td>\n",
       "      <td>False</td>\n",
       "      <td>0</td>\n",
       "      <td>False</td>\n",
       "      <td>True</td>\n",
       "      <td>False</td>\n",
       "      <td>4.0</td>\n",
       "      <td>4.0</td>\n",
       "      <td>0.0</td>\n",
       "      <td>-26.0</td>\n",
       "      <td>2.0</td>\n",
       "      <td>1.0</td>\n",
       "      <td>2.0</td>\n",
       "      <td>2.0</td>\n",
       "      <td>2.0</td>\n",
       "      <td>6.0</td>\n",
       "      <td>2.0</td>\n",
       "      <td>6.0</td>\n",
       "      <td>0.0</td>\n",
       "      <td>2.0</td>\n",
       "      <td>0.0</td>\n",
       "      <td>2.0</td>\n",
       "      <td>4.0</td>\n",
       "      <td>5.0</td>\n",
       "      <td>30.0</td>\n",
       "      <td>1.0</td>\n",
       "      <td>0.0</td>\n",
       "      <td>-4.0</td>\n",
       "      <td>-4.0</td>\n",
       "      <td>-2.0</td>\n",
       "      <td>-2.0</td>\n",
       "    </tr>\n",
       "    <tr>\n",
       "      <th>3</th>\n",
       "      <td>31.0</td>\n",
       "      <td>174.0</td>\n",
       "      <td>175.0</td>\n",
       "      <td>152.0</td>\n",
       "      <td>130.0</td>\n",
       "      <td>False</td>\n",
       "      <td>3.0</td>\n",
       "      <td>51.0</td>\n",
       "      <td>40.0</td>\n",
       "      <td>False</td>\n",
       "      <td>False</td>\n",
       "      <td>0</td>\n",
       "      <td>False</td>\n",
       "      <td>False</td>\n",
       "      <td>True</td>\n",
       "      <td>7.0</td>\n",
       "      <td>7.0</td>\n",
       "      <td>8.0</td>\n",
       "      <td>-15.0</td>\n",
       "      <td>-5.0</td>\n",
       "      <td>1.0</td>\n",
       "      <td>-5.0</td>\n",
       "      <td>2.0</td>\n",
       "      <td>-2.0</td>\n",
       "      <td>1.0</td>\n",
       "      <td>-2.0</td>\n",
       "      <td>2.0</td>\n",
       "      <td>1.0</td>\n",
       "      <td>1.0</td>\n",
       "      <td>1.0</td>\n",
       "      <td>1.0</td>\n",
       "      <td>-1.0</td>\n",
       "      <td>11.0</td>\n",
       "      <td>22.0</td>\n",
       "      <td>-6.0</td>\n",
       "      <td>-7.0</td>\n",
       "      <td>-3.0</td>\n",
       "      <td>-4.0</td>\n",
       "      <td>0.0</td>\n",
       "      <td>0.0</td>\n",
       "    </tr>\n",
       "    <tr>\n",
       "      <th>4</th>\n",
       "      <td>31.0</td>\n",
       "      <td>179.0</td>\n",
       "      <td>176.0</td>\n",
       "      <td>149.0</td>\n",
       "      <td>133.0</td>\n",
       "      <td>False</td>\n",
       "      <td>4.0</td>\n",
       "      <td>50.0</td>\n",
       "      <td>41.0</td>\n",
       "      <td>False</td>\n",
       "      <td>False</td>\n",
       "      <td>0</td>\n",
       "      <td>True</td>\n",
       "      <td>False</td>\n",
       "      <td>False</td>\n",
       "      <td>4.0</td>\n",
       "      <td>4.0</td>\n",
       "      <td>1.0</td>\n",
       "      <td>-12.0</td>\n",
       "      <td>6.0</td>\n",
       "      <td>7.0</td>\n",
       "      <td>4.0</td>\n",
       "      <td>8.0</td>\n",
       "      <td>2.0</td>\n",
       "      <td>2.0</td>\n",
       "      <td>0.0</td>\n",
       "      <td>4.0</td>\n",
       "      <td>2.0</td>\n",
       "      <td>0.0</td>\n",
       "      <td>0.0</td>\n",
       "      <td>0.0</td>\n",
       "      <td>3.0</td>\n",
       "      <td>9.0</td>\n",
       "      <td>16.0</td>\n",
       "      <td>-1.0</td>\n",
       "      <td>-4.0</td>\n",
       "      <td>0.0</td>\n",
       "      <td>-4.0</td>\n",
       "      <td>2.0</td>\n",
       "      <td>0.0</td>\n",
       "    </tr>\n",
       "  </tbody>\n",
       "</table>\n",
       "</div>"
      ],
      "text/plain": [
       "   week_of_year  RoomsOTB  RoomsOTB_STLY  TRN_RoomsOTB  TRN_RoomsOTB_STLY  \\\n",
       "0          30.0     170.0          168.0         137.0              129.0   \n",
       "1          31.0     178.0          175.0         148.0              130.0   \n",
       "2          31.0     182.0          178.0         158.0              128.0   \n",
       "3          31.0     174.0          175.0         152.0              130.0   \n",
       "4          31.0     179.0          176.0         149.0              133.0   \n",
       "\n",
       "      WE  DaysUntilArrival  RemSupply  RemSupply_STLY    Mon    Sat  Sun  \\\n",
       "0  False               0.0       42.0            41.0  False  False    1   \n",
       "1  False               1.0       40.0            38.0   True  False    0   \n",
       "2  False               2.0       40.0            35.0  False  False    0   \n",
       "3  False               3.0       51.0            40.0  False  False    0   \n",
       "4  False               4.0       50.0            41.0  False  False    0   \n",
       "\n",
       "     Thu    Tue    Wed  ACTUAL_RoomsPickup_STLY  ACTUAL_TRN_RoomsPickup_STLY  \\\n",
       "0  False  False  False                      0.0                          0.0   \n",
       "1  False  False  False                      3.0                          3.0   \n",
       "2  False   True  False                      4.0                          4.0   \n",
       "3  False  False   True                      7.0                          7.0   \n",
       "4   True  False  False                      4.0                          4.0   \n",
       "\n",
       "   OTB_GapToLYA_RoomsSold  OTB_GapToLYA_TRN_RoomsSold  TM30_RoomsPickup  \\\n",
       "0                    -2.0                        -8.0              20.0   \n",
       "1                     0.0                       -15.0               3.0   \n",
       "2                     0.0                       -26.0               2.0   \n",
       "3                     8.0                       -15.0              -5.0   \n",
       "4                     1.0                       -12.0               6.0   \n",
       "\n",
       "   TM30_RoomsPickup_STLY  TM30_TRN_RoomsPickup  TM30_TRN_RoomsPickup_STLY  \\\n",
       "0                    7.0                  15.0                       10.0   \n",
       "1                    3.0                   3.0                        6.0   \n",
       "2                    1.0                   2.0                        2.0   \n",
       "3                    1.0                  -5.0                        2.0   \n",
       "4                    7.0                   4.0                        8.0   \n",
       "\n",
       "   TM15_RoomsPickup  TM15_RoomsPickup_STLY  TM15_TRN_RoomsPickup  \\\n",
       "0              15.0                    7.0                  10.0   \n",
       "1               3.0                    7.0                   3.0   \n",
       "2               2.0                    6.0                   2.0   \n",
       "3              -2.0                    1.0                  -2.0   \n",
       "4               2.0                    2.0                   0.0   \n",
       "\n",
       "   TM15_TRN_RoomsPickup_STLY  TM05_RoomsPickup  TM05_RoomsPickup_STLY  \\\n",
       "0                        9.0               8.0                    6.0   \n",
       "1                        9.0               7.0                    2.0   \n",
       "2                        6.0               0.0                    2.0   \n",
       "3                        2.0               1.0                    1.0   \n",
       "4                        4.0               2.0                    0.0   \n",
       "\n",
       "   TM05_TRN_RoomsPickup  TM05_TRN_RoomsPickup_STLY  Pace_RoomsOTB  \\\n",
       "0                   9.0                        6.0            2.0   \n",
       "1                   7.0                        2.0            3.0   \n",
       "2                   0.0                        2.0            4.0   \n",
       "3                   1.0                        1.0           -1.0   \n",
       "4                   0.0                        0.0            3.0   \n",
       "\n",
       "   Pace_RemSupply  Pace_TRN_RoomsOTB  Pace_TM30_RoomsPickup  \\\n",
       "0             1.0                8.0                   13.0   \n",
       "1             2.0               18.0                    0.0   \n",
       "2             5.0               30.0                    1.0   \n",
       "3            11.0               22.0                   -6.0   \n",
       "4             9.0               16.0                   -1.0   \n",
       "\n",
       "   Pace_TM30_TRN_RoomsPickup  Pace_TM15_RoomsPickup  \\\n",
       "0                        5.0                    8.0   \n",
       "1                       -3.0                   -4.0   \n",
       "2                        0.0                   -4.0   \n",
       "3                       -7.0                   -3.0   \n",
       "4                       -4.0                    0.0   \n",
       "\n",
       "   Pace_TM15_TRN_RoomsPickup  Pace_TM05_RoomsPickup  Pace_TM05_TRN_RoomsPickup  \n",
       "0                        1.0                    2.0                        3.0  \n",
       "1                       -6.0                    5.0                        5.0  \n",
       "2                       -4.0                   -2.0                       -2.0  \n",
       "3                       -4.0                    0.0                        0.0  \n",
       "4                       -4.0                    2.0                        0.0  "
      ]
     },
     "execution_count": 6,
     "metadata": {},
     "output_type": "execute_result"
    }
   ],
   "source": [
    "X1_train.head()"
   ]
  },
  {
   "cell_type": "markdown",
   "id": "absent-cover",
   "metadata": {},
   "source": [
    "## LINEAR REGRESSION\n",
    "\n",
    "Results are not horrible, but it would not work this well in the real-world. Our target variable is not a linear combination of the rate & revenue features that we know have an impact on demand."
   ]
  },
  {
   "cell_type": "code",
   "execution_count": 7,
   "id": "exposed-reproduction",
   "metadata": {},
   "outputs": [
    {
     "name": "stdout",
     "output_type": "stream",
     "text": [
      "CPU times: user 3.54 s, sys: 4.12 s, total: 7.66 s\n",
      "Wall time: 500 ms\n"
     ]
    },
    {
     "data": {
      "text/plain": [
       "0.7378753276596532"
      ]
     },
     "execution_count": 7,
     "metadata": {},
     "output_type": "execute_result"
    }
   ],
   "source": [
    "%%time\n",
    "lm = LinearRegression()\n",
    "lr_model = lm.fit(X1_train, y1_train)\n",
    "scores = cross_val_score(lm, X1_train, y1_train, scoring='r2', cv=5)\n",
    "scores.mean()"
   ]
  },
  {
   "cell_type": "code",
   "execution_count": 8,
   "id": "prepared-diagram",
   "metadata": {},
   "outputs": [
    {
     "data": {
      "text/plain": [
       "0.52736669230843"
      ]
     },
     "execution_count": 8,
     "metadata": {},
     "output_type": "execute_result"
    }
   ],
   "source": [
    "lr_model.score(X1_test, y1_test)"
   ]
  },
  {
   "cell_type": "markdown",
   "id": "attractive-sharing",
   "metadata": {},
   "source": [
    "## RANDOM FOREST MODEL\n",
    "\n",
    "I had high hopes for RF, and it came through. It works because of the amount and quality of the features I have engineered, despite the small training set. "
   ]
  },
  {
   "cell_type": "code",
   "execution_count": 9,
   "id": "sudden-hunger",
   "metadata": {},
   "outputs": [
    {
     "name": "stdout",
     "output_type": "stream",
     "text": [
      "CPU times: user 27.4 s, sys: 1.53 s, total: 28.9 s\n",
      "Wall time: 10.8 s\n"
     ]
    },
    {
     "data": {
      "text/plain": [
       "0.7624015193342343"
      ]
     },
     "execution_count": 9,
     "metadata": {},
     "output_type": "execute_result"
    }
   ],
   "source": [
    "%%time\n",
    "rfm = RandomForestRegressor(n_jobs=-1, random_state=20)\n",
    "rf_model = rfm.fit(X1_train, y1_train)\n",
    "scores = cross_val_score(rfm, X1_train, y1_train, scoring='r2', cv=5)\n",
    "scores.mean()"
   ]
  },
  {
   "cell_type": "code",
   "execution_count": 10,
   "id": "acute-blend",
   "metadata": {},
   "outputs": [
    {
     "data": {
      "text/plain": [
       "0.7380154149937472"
      ]
     },
     "execution_count": 10,
     "metadata": {},
     "output_type": "execute_result"
    }
   ],
   "source": [
    "rf_model.score(X1_test, y1_test)"
   ]
  },
  {
   "cell_type": "markdown",
   "id": "aboriginal-howard",
   "metadata": {},
   "source": [
    "with stly otb & cxl: 0.7309571151188048\n",
    "\n",
    "without stly (pace only): .68\n",
    "\n",
    "without cxl: "
   ]
  },
  {
   "cell_type": "markdown",
   "id": "frozen-sheet",
   "metadata": {},
   "source": [
    "## XGBOOST MODEL (GRADIENT BOOSTING TREES)\n",
    "\n",
    "XGBoost came in close to RandomForest, though I fear how it will generalize with other hotels (less predictable ones, like city-hotel H2) due to the relatively small sample size of 1 year. "
   ]
  },
  {
   "cell_type": "code",
   "execution_count": 11,
   "id": "insured-salvation",
   "metadata": {},
   "outputs": [
    {
     "name": "stdout",
     "output_type": "stream",
     "text": [
      "CPU times: user 1min 21s, sys: 115 ms, total: 1min 21s\n",
      "Wall time: 5.27 s\n"
     ]
    },
    {
     "data": {
      "text/plain": [
       "0.7614100581142389"
      ]
     },
     "execution_count": 11,
     "metadata": {},
     "output_type": "execute_result"
    }
   ],
   "source": [
    "%%time\n",
    "xgbm = XGBRegressor(n_jobs=-1, random_state=20)\n",
    "xgb_model = xgbm.fit(X1_train, y1_train)\n",
    "scores = cross_val_score(xgbm, X1_train, y1_train, scoring='r2', cv=5)\n",
    "scores.mean()"
   ]
  },
  {
   "cell_type": "code",
   "execution_count": 12,
   "id": "immune-tracy",
   "metadata": {},
   "outputs": [
    {
     "data": {
      "text/plain": [
       "0.729108542819436"
      ]
     },
     "execution_count": 12,
     "metadata": {},
     "output_type": "execute_result"
    }
   ],
   "source": [
    "xgbm.score(X1_test, y1_test)"
   ]
  },
  {
   "cell_type": "markdown",
   "id": "conditional-above",
   "metadata": {},
   "source": [
    "## MOVING FORWARD WITH RANDOM FOREST....\n",
    "\n",
    "Below is how I tuned the hyperparameters. Suprisingly, even with over 100 CPU hours of grid search, I wasn't able to improve the $R^2$ score by more than 1% (both CV and test scores).\n",
    "\n",
    "\n",
    "## Randomized Grid Search"
   ]
  },
  {
   "cell_type": "markdown",
   "id": "documentary-paris",
   "metadata": {},
   "source": [
    "Parameters of random grid search\n",
    "```\n",
    "random_grid = {\n",
    "    \"n_estimators\": range(200, 2000, 100),\n",
    "    \"max_features\": [\"auto\", \"sqrt\"],\n",
    "    \"max_depth\": range(10, 110, 11),\n",
    "    \"min_samples_split\": [2, 5, 10],\n",
    "    \"min_samples_leaf\": [1, 2, 4],\n",
    "    \"bootstrap\": [True, False]\n",
    "}\n",
    "\n",
    "rf = RandomForestRegressor()\n",
    "rf_random = (RandomizedSearchCV(rf, random_grid, verbose=2, n_iter=50, random_state=42, n_jobs=-1))\n",
    "\n",
    "rf_random.fit(X1_train, y1_train)\n",
    "```"
   ]
  },
  {
   "cell_type": "markdown",
   "id": "respected-welsh",
   "metadata": {},
   "source": [
    "Results of random grid search:\n",
    "\n",
    "```\n",
    "{'n_estimators': 500,\n",
    " 'min_samples_split': 2,\n",
    " 'min_samples_leaf': 1,\n",
    " 'max_features': 'auto',\n",
    " 'max_depth': 43,\n",
    " 'bootstrap': True}\n",
    "```\n",
    "\n",
    "Score: 0.6519058137402494"
   ]
  },
  {
   "cell_type": "markdown",
   "id": "behavioral-andrew",
   "metadata": {},
   "source": [
    "## Brute Force Hyperparameter Tuning (GridSearchCV)\n",
    "\n",
    "Best params thus far: \n",
    "Setup params:\n",
    "```\n",
    "GridSearchCV(cv=5, estimator=RandomForestRegressor(), n_jobs=-1,\n",
    "             param_grid={'bootstrap': [True], 'max_depth': [30, 56, 2],\n",
    "                         'max_features': ['auto'],\n",
    "                         'min_samples_split': [2, 3, 4, 8],\n",
    "                         'n_estimators': range(300, 800, 40)},\n",
    "             verbose=10)\n",
    "```\n",
    "Best resulting params:\n",
    "```\n",
    "{'bootstrap': True,\n",
    " 'max_depth': 56,\n",
    " 'max_features': 'auto',\n",
    " 'min_samples_split': 3,\n",
    " 'n_estimators': 300}\n",
    "```\n",
    "\n",
    " $R^2$ CV score: `0.7785714200550233`\n",
    "\n",
    "\n",
    "## Round 2\n",
    "\n",
    "\n",
    "Param grid:\n",
    "```\n",
    "rf_grid = {\n",
    "    \"n_estimators\": range(150, 500, 50),\n",
    "    \"max_features\": ['auto'],\n",
    "    \"max_depth\": range(32,56,2),\n",
    "    \"bootstrap\": [True],\n",
    "    \"min_samples_split\": [2, 3, 4]\n",
    "}\n",
    "```\n",
    "\n",
    "And the **results**:\n",
    "```\n",
    "{'bootstrap': True,\n",
    " 'max_depth': 48,\n",
    " 'min_samples_split': 2,\n",
    " 'n_estimators': 150}\n",
    "```\n",
    "$R^2$ CV score: `0.779336423856766`\n",
    " \n",
    "### Round 3 (Worse than Round 2)\n",
    "\n",
    "Param grid:\n",
    "```\n",
    "rf_grid = {\n",
    "    \"n_estimators\": range(75, 225, 25),\n",
    "    \"max_depth\": [47, 48, 49],\n",
    "    \"bootstrap\": [True],\n",
    "    \"min_samples_split\": [2],\n",
    "}\n",
    "```\n",
    "\n",
    "And the **results**:\n",
    "\n",
    "Best params:\n",
    "```\n",
    "{'bootstrap': True,\n",
    " 'max_depth': 47,\n",
    " 'min_samples_split': 2,\n",
    " 'n_estimators': 125}\n",
    "```\n",
    "$R^2$ CV score: `0.7775378755829061`"
   ]
  },
  {
   "cell_type": "code",
   "execution_count": 19,
   "id": "following-match",
   "metadata": {},
   "outputs": [
    {
     "name": "stdout",
     "output_type": "stream",
     "text": [
      "n_iterations: 4\n",
      "n_required_iterations: 4\n",
      "n_possible_iterations: 4\n",
      "min_resources_: 415\n",
      "max_resources_: 11216\n",
      "aggressive_elimination: False\n",
      "factor: 3\n",
      "----------\n",
      "iter: 0\n",
      "n_candidates: 30\n",
      "n_resources: 415\n",
      "Fitting 5 folds for each of 30 candidates, totalling 150 fits\n",
      "----------\n",
      "iter: 1\n",
      "n_candidates: 10\n",
      "n_resources: 1245\n",
      "Fitting 5 folds for each of 10 candidates, totalling 50 fits\n",
      "----------\n",
      "iter: 2\n",
      "n_candidates: 4\n",
      "n_resources: 3735\n",
      "Fitting 5 folds for each of 4 candidates, totalling 20 fits\n",
      "----------\n",
      "iter: 3\n",
      "n_candidates: 2\n",
      "n_resources: 11205\n",
      "Fitting 5 folds for each of 2 candidates, totalling 10 fits\n"
     ]
    },
    {
     "data": {
      "text/plain": [
       "HalvingGridSearchCV(estimator=RandomForestRegressor(), n_jobs=-1,\n",
       "                    param_grid={'max_depth': [28, 29, 30, 31, 32, None],\n",
       "                                'n_estimators': [450, 465, 475, 485, 500]},\n",
       "                    random_state=20,\n",
       "                    refit=<function _refit_callable at 0x7f8e73195830>,\n",
       "                    verbose=10)"
      ]
     },
     "execution_count": 19,
     "metadata": {},
     "output_type": "execute_result"
    }
   ],
   "source": [
    "rf_grid = {\n",
    "    \"n_estimators\": [450, 465, 475, 485, 500],\n",
    "    \"max_depth\": [28, 29, 30, 31, 32, None],\n",
    "}\n",
    "rfm = RandomForestRegressor()\n",
    "\n",
    "rf_hgs = HalvingGridSearchCV(rfm, rf_grid, n_jobs=-1, verbose=10, cv=5, random_state=20)\n",
    "rf_hgs.fit(X1_train, y1_train)"
   ]
  },
  {
   "cell_type": "code",
   "execution_count": 15,
   "id": "marine-cholesterol",
   "metadata": {
    "scrolled": true
   },
   "outputs": [
    {
     "data": {
      "text/plain": [
       "{'max_depth': 28, 'n_estimators': 475}"
      ]
     },
     "execution_count": 15,
     "metadata": {},
     "output_type": "execute_result"
    }
   ],
   "source": [
    "rf_hgs.best_params_"
   ]
  },
  {
   "cell_type": "code",
   "execution_count": 16,
   "id": "legal-indianapolis",
   "metadata": {},
   "outputs": [
    {
     "data": {
      "text/plain": [
       "0.7643058943002272"
      ]
     },
     "execution_count": 16,
     "metadata": {},
     "output_type": "execute_result"
    }
   ],
   "source": [
    "rf_hgs.best_score_"
   ]
  },
  {
   "cell_type": "code",
   "execution_count": 17,
   "id": "loving-syndication",
   "metadata": {
    "scrolled": true
   },
   "outputs": [
    {
     "data": {
      "text/plain": [
       "0.739915104194734"
      ]
     },
     "execution_count": 17,
     "metadata": {},
     "output_type": "execute_result"
    }
   ],
   "source": [
    "rf_hgs.score(X1_test, y1_test)"
   ]
  },
  {
   "cell_type": "code",
   "execution_count": null,
   "id": "peaceful-granny",
   "metadata": {},
   "outputs": [],
   "source": [
    "## Final param tuning with brute force grid search"
   ]
  },
  {
   "cell_type": "code",
   "execution_count": 21,
   "id": "collective-wallet",
   "metadata": {},
   "outputs": [
    {
     "name": "stdout",
     "output_type": "stream",
     "text": [
      "Fitting 5 folds for each of 10 candidates, totalling 50 fits\n"
     ]
    },
    {
     "data": {
      "text/plain": [
       "GridSearchCV(cv=5, estimator=RandomForestRegressor(), n_jobs=-1,\n",
       "             param_grid={'max_depth': [18, 20, 22, 24, None],\n",
       "                         'n_estimators': [100, 550]},\n",
       "             verbose=10)"
      ]
     },
     "execution_count": 21,
     "metadata": {},
     "output_type": "execute_result"
    }
   ],
   "source": [
    "rf_grid = {\n",
    "    \"n_estimators\": [100, 550],\n",
    "    \"max_depth\": [18, 20, 22, 24, None],\n",
    "}\n",
    "rfm = RandomForestRegressor()\n",
    "\n",
    "rfg = GridSearchCV(rfm, rf_grid, n_jobs=-1, verbose=10, cv=5)\n",
    "rfg.fit(X1_train, y1_train)"
   ]
  },
  {
   "cell_type": "code",
   "execution_count": 22,
   "id": "nonprofit-crest",
   "metadata": {},
   "outputs": [
    {
     "name": "stdout",
     "output_type": "stream",
     "text": [
      "Grid Search Results:\n",
      "\n",
      "Optimal parameters: {'max_depth': None, 'n_estimators': 550}\n",
      "Best CV score:      0.7655277443765263\n"
     ]
    }
   ],
   "source": [
    "print(f\"\"\"Grid Search Results:\n",
    "\n",
    "Optimal parameters: {rfg.best_params_}\n",
    "Best CV score:      {rfg.best_score_}\"\"\")"
   ]
  },
  {
   "cell_type": "code",
   "execution_count": 23,
   "id": "standard-facility",
   "metadata": {},
   "outputs": [
    {
     "data": {
      "text/plain": [
       "0.7398501647942479"
      ]
     },
     "execution_count": 23,
     "metadata": {},
     "output_type": "execute_result"
    }
   ],
   "source": [
    "rfg.score(X1_test, y1_test)"
   ]
  },
  {
   "cell_type": "markdown",
   "id": "personal-ambassador",
   "metadata": {},
   "source": [
    "## Final Model"
   ]
  },
  {
   "cell_type": "code",
   "execution_count": null,
   "id": "invisible-stage",
   "metadata": {},
   "outputs": [],
   "source": [
    "rf = RandomForestRegressor(n_estimators=550, n_jobs=-1, random_state=20)\n",
    "\n",
    "rf.fit(X1_train, y1_train)"
   ]
  },
  {
   "cell_type": "code",
   "execution_count": null,
   "id": "documentary-listing",
   "metadata": {},
   "outputs": [],
   "source": [
    "rf.score(X1_test, y1_test)"
   ]
  },
  {
   "cell_type": "markdown",
   "id": "basic-deadline",
   "metadata": {},
   "source": [
    "## Now that we have our model, let's get it in the simulation so we can evaluate our results.\n",
    "\n",
    "Head over to `demand_model_evaluation.ipynb` for more."
   ]
  },
  {
   "cell_type": "code",
   "execution_count": null,
   "id": "cleared-drinking",
   "metadata": {},
   "outputs": [],
   "source": []
  }
 ],
 "metadata": {
  "kernelspec": {
   "display_name": "Python 3",
   "language": "python",
   "name": "python3"
  },
  "language_info": {
   "codemirror_mode": {
    "name": "ipython",
    "version": 3
   },
   "file_extension": ".py",
   "mimetype": "text/x-python",
   "name": "python",
   "nbconvert_exporter": "python",
   "pygments_lexer": "ipython3",
   "version": "3.8.6"
  }
 },
 "nbformat": 4,
 "nbformat_minor": 5
}
